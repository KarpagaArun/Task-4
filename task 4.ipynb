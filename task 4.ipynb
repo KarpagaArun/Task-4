{
 "cells": [
  {
   "cell_type": "code",
   "execution_count": 1,
   "id": "57a0d24a-747a-4d37-9e58-e1f9dfb84572",
   "metadata": {},
   "outputs": [
    {
     "name": "stdout",
     "output_type": "stream",
     "text": [
      "Initial Data Info:\n",
      "<class 'pandas.core.frame.DataFrame'>\n",
      "RangeIndex: 48895 entries, 0 to 48894\n",
      "Data columns (total 16 columns):\n",
      " #   Column                          Non-Null Count  Dtype  \n",
      "---  ------                          --------------  -----  \n",
      " 0   id                              48895 non-null  int64  \n",
      " 1   name                            48879 non-null  object \n",
      " 2   host_id                         48895 non-null  int64  \n",
      " 3   host_name                       48874 non-null  object \n",
      " 4   neighbourhood_group             48895 non-null  object \n",
      " 5   neighbourhood                   48895 non-null  object \n",
      " 6   latitude                        48895 non-null  float64\n",
      " 7   longitude                       48895 non-null  float64\n",
      " 8   room_type                       48895 non-null  object \n",
      " 9   price                           48895 non-null  int64  \n",
      " 10  minimum_nights                  48895 non-null  int64  \n",
      " 11  number_of_reviews               48895 non-null  int64  \n",
      " 12  last_review                     38843 non-null  object \n",
      " 13  reviews_per_month               38843 non-null  float64\n",
      " 14  calculated_host_listings_count  48895 non-null  int64  \n",
      " 15  availability_365                48895 non-null  int64  \n",
      "dtypes: float64(3), int64(7), object(6)\n",
      "memory usage: 6.0+ MB\n",
      "None\n"
     ]
    },
    {
     "name": "stderr",
     "output_type": "stream",
     "text": [
      "C:\\Users\\PREETHI\\AppData\\Local\\Temp\\ipykernel_10816\\2747408410.py:16: FutureWarning: A value is trying to be set on a copy of a DataFrame or Series through chained assignment using an inplace method.\n",
      "The behavior will change in pandas 3.0. This inplace method will never work because the intermediate object on which we are setting values always behaves as a copy.\n",
      "\n",
      "For example, when doing 'df[col].method(value, inplace=True)', try using 'df.method({col: value}, inplace=True)' or df[col] = df[col].method(value) instead, to perform the operation inplace on the original object.\n",
      "\n",
      "\n",
      "  df['reviews_per_month'].fillna(0, inplace=True)  # Fill NaN in reviews_per_month with 0\n"
     ]
    },
    {
     "name": "stdout",
     "output_type": "stream",
     "text": [
      "Cleaned Data Info:\n",
      "<class 'pandas.core.frame.DataFrame'>\n",
      "RangeIndex: 48867 entries, 0 to 48866\n",
      "Data columns (total 14 columns):\n",
      " #   Column                          Non-Null Count  Dtype         \n",
      "---  ------                          --------------  -----         \n",
      " 0   id                              48867 non-null  int64         \n",
      " 1   host_id                         48867 non-null  int64         \n",
      " 2   neighbourhood_group             48867 non-null  object        \n",
      " 3   neighbourhood                   48867 non-null  object        \n",
      " 4   latitude                        48867 non-null  float64       \n",
      " 5   longitude                       48867 non-null  float64       \n",
      " 6   room_type                       48867 non-null  object        \n",
      " 7   price                           48867 non-null  int64         \n",
      " 8   minimum_nights                  48867 non-null  int64         \n",
      " 9   number_of_reviews               48867 non-null  int64         \n",
      " 10  last_review                     38825 non-null  datetime64[ns]\n",
      " 11  reviews_per_month               48867 non-null  float64       \n",
      " 12  calculated_host_listings_count  48867 non-null  int64         \n",
      " 13  availability_365                48867 non-null  int64         \n",
      "dtypes: datetime64[ns](1), float64(3), int64(7), object(3)\n",
      "memory usage: 5.2+ MB\n",
      "None\n",
      "Data cleaning completed and saved as AB_NYC_2019_cleaned.csv\n"
     ]
    }
   ],
   "source": [
    "import pandas as pd\n",
    "\n",
    "# Load dataset\n",
    "df = pd.read_csv(\"AB_NYC_2019.csv\")\n",
    "\n",
    "# Display basic info before cleaning\n",
    "print(\"Initial Data Info:\")\n",
    "print(df.info())\n",
    "\n",
    "# Drop duplicates\n",
    "df.drop_duplicates(inplace=True)\n",
    "\n",
    "# Handle missing values\n",
    "df.drop(columns=['name', 'host_name'], inplace=True)  # Dropping non-essential columns with missing values\n",
    "df['last_review'] = pd.to_datetime(df['last_review'])  # Convert last_review to datetime\n",
    "df['reviews_per_month'].fillna(0, inplace=True)  # Fill NaN in reviews_per_month with 0\n",
    "\n",
    "# Remove unrealistic values\n",
    "df = df[(df['price'] > 0) & (df['price'] < 10000)]  # Remove outliers in price\n",
    "df = df[df['minimum_nights'] <= 365]  # Remove extreme booking lengths\n",
    "\n",
    "# Reset index\n",
    "df.reset_index(drop=True, inplace=True)\n",
    "\n",
    "# Display cleaned data info\n",
    "print(\"Cleaned Data Info:\")\n",
    "print(df.info())\n",
    "\n",
    "# Save cleaned data\n",
    "df.to_csv(\"AB_NYC_2019_cleaned.csv\", index=False)\n",
    "print(\"Data cleaning completed and saved as AB_NYC_2019_cleaned.csv\")\n"
   ]
  },
  {
   "cell_type": "code",
   "execution_count": null,
   "id": "6b86f7e7-0582-4196-b748-c08bb7dc55e1",
   "metadata": {},
   "outputs": [],
   "source": []
  }
 ],
 "metadata": {
  "kernelspec": {
   "display_name": "Python 3 (ipykernel)",
   "language": "python",
   "name": "python3"
  },
  "language_info": {
   "codemirror_mode": {
    "name": "ipython",
    "version": 3
   },
   "file_extension": ".py",
   "mimetype": "text/x-python",
   "name": "python",
   "nbconvert_exporter": "python",
   "pygments_lexer": "ipython3",
   "version": "3.12.7"
  }
 },
 "nbformat": 4,
 "nbformat_minor": 5
}
